{
 "cells": [
  {
   "cell_type": "markdown",
   "metadata": {},
   "source": [
    "<div style=\"text-align: left\"><H1><font color=darkblue> CAPM - Capital Asset Pricing Model  </font></H1></div>\n",
    "<div style=\"text-align: left\"><H4><font color=black>Produced By: Driss Baraket </font></H4></div>\n",
    "\n",
    "<div style=\"text-align: center\"><H3><font color=green> The General Objective in the Analysis is: </font></H3></div>\n",
    "<div style=\"text-align: center\"><H3><font color=green> identifing the CAPM of a portfolio. </font></H3></div>\n",
    " \n",
    "\n",
    "\n",
    "###### Portfolio Returns:"
   ]
  },
  {
   "cell_type": "markdown",
   "metadata": {},
   "source": [
    "## $r_p(t) = \\sum\\limits_{i}^{n}w_i r_i(t)$"
   ]
  },
  {
   "cell_type": "markdown",
   "metadata": {},
   "source": [
    "Market Weights: (the market cap of this company i) / (market cap of all company from i to j)"
   ]
  },
  {
   "cell_type": "markdown",
   "metadata": {},
   "source": [
    "## $ w_i = \\frac{MarketCap_i}{\\sum_{j}^{n}{MarketCap_j}} $\n"
   ]
  },
  {
   "cell_type": "markdown",
   "metadata": {},
   "source": [
    "### CAPM of a portfolio"
   ]
  },
  {
   "cell_type": "markdown",
   "metadata": {},
   "source": [
    "\n",
    "## $ r_p(t) = \\beta_pr_m(t) + \\sum\\limits_{i}^{n}w_i \\alpha_i(t)$"
   ]
  },
  {
   "cell_type": "code",
   "execution_count": 19,
   "metadata": {},
   "outputs": [
    {
     "name": "stdout",
     "output_type": "stream",
     "text": [
      "Collecting requests_cache\n",
      "  Downloading https://files.pythonhosted.org/packages/25/1f/785833faa0aeced7c4aa466967e7ce76cbab578c634eb8c924844b9b7961/requests_cache-0.9.0-py3-none-any.whl (46kB)\n",
      "Requirement already satisfied: requests<3.0,>=2.22 in c:\\users\\driss\\anaconda3\\lib\\site-packages (from requests_cache) (2.22.0)\n",
      "Collecting cattrs<2.0,>=1.8 (from requests_cache)\n",
      "  Downloading https://files.pythonhosted.org/packages/b8/bb/0a4ae331fb64b0ccc6a83161d9aa462b2c38758823ac0ae48954714d5293/cattrs-1.10.0-py3-none-any.whl\n",
      "Collecting appdirs<2.0.0,>=1.4.4 (from requests_cache)\n",
      "  Downloading https://files.pythonhosted.org/packages/3b/00/2344469e2084fb287c2e0b57b72910309874c3245463acd6cf5e3db69324/appdirs-1.4.4-py2.py3-none-any.whl\n",
      "Collecting attrs<22.0,>=21.2 (from requests_cache)\n",
      "  Downloading https://files.pythonhosted.org/packages/be/be/7abce643bfdf8ca01c48afa2ddf8308c2308b0c3b239a44e57d020afa0ef/attrs-21.4.0-py2.py3-none-any.whl (60kB)\n",
      "Collecting url-normalize<2.0,>=1.4 (from requests_cache)\n",
      "  Downloading https://files.pythonhosted.org/packages/65/1c/6c6f408be78692fc850006a2b6dea37c2b8592892534e09996e401efc74b/url_normalize-1.4.3-py2.py3-none-any.whl\n",
      "Collecting urllib3<2.0.0,>=1.25.5 (from requests_cache)\n",
      "  Downloading https://files.pythonhosted.org/packages/4e/b8/f5a25b22e803f0578e668daa33ba3701bb37858ec80e08a150bd7d2cf1b1/urllib3-1.26.8-py2.py3-none-any.whl (138kB)\n",
      "Requirement already satisfied: certifi>=2017.4.17 in c:\\users\\driss\\anaconda3\\lib\\site-packages (from requests<3.0,>=2.22->requests_cache) (2019.9.11)\n",
      "Requirement already satisfied: idna<2.9,>=2.5 in c:\\users\\driss\\anaconda3\\lib\\site-packages (from requests<3.0,>=2.22->requests_cache) (2.8)\n",
      "Requirement already satisfied: chardet<3.1.0,>=3.0.2 in c:\\users\\driss\\anaconda3\\lib\\site-packages (from requests<3.0,>=2.22->requests_cache) (3.0.4)\n",
      "Collecting typing_extensions; python_version >= \"3.7\" and python_version < \"3.8\" (from cattrs<2.0,>=1.8->requests_cache)\n",
      "  Downloading https://files.pythonhosted.org/packages/05/e4/baf0031e39cf545f0c9edd5b1a2ea12609b7fcba2d58e118b11753d68cf0/typing_extensions-4.0.1-py3-none-any.whl\n",
      "Requirement already satisfied: six in c:\\users\\driss\\anaconda3\\lib\\site-packages (from url-normalize<2.0,>=1.4->requests_cache) (1.12.0)\n",
      "Installing collected packages: attrs, typing-extensions, cattrs, appdirs, url-normalize, urllib3, requests-cache\n",
      "  Found existing installation: attrs 19.2.0\n",
      "    Uninstalling attrs-19.2.0:\n",
      "      Successfully uninstalled attrs-19.2.0\n",
      "  Found existing installation: urllib3 1.24.2\n",
      "    Uninstalling urllib3-1.24.2:\n",
      "      Successfully uninstalled urllib3-1.24.2\n",
      "Successfully installed appdirs-1.4.4 attrs-21.4.0 cattrs-1.10.0 requests-cache-0.9.0 typing-extensions-4.0.1 url-normalize-1.4.3 urllib3-1.26.8\n"
     ]
    },
    {
     "name": "stderr",
     "output_type": "stream",
     "text": [
      "ERROR: conda 4.11.0 requires ruamel_yaml_conda>=0.11.14, which is not installed.\n",
      "ERROR: requests 2.22.0 has requirement urllib3!=1.25.0,!=1.25.1,<1.26,>=1.21.1, but you'll have urllib3 1.26.8 which is incompatible.\n"
     ]
    }
   ],
   "source": [
    "!pip install requests_cache\n",
    "## Important\n",
    "import requests_cache\n",
    "session = requests_cache.CachedSession(cache_name='cache', backend='sqlite', expire_after= 'CachedSession.expire_after')\n",
    "# just add headers to your session and provide it to the reader\n",
    "session.headers = {     'User-Agent': 'Mozilla/5.0 (X11; Ubuntu; Linux x86_64; rv:89.0) Gecko/20100101 Firefox/89.0',     'Accept': 'application/json;charset=utf-8'     }\n"
   ]
  },
  {
   "cell_type": "code",
   "execution_count": 51,
   "metadata": {},
   "outputs": [],
   "source": [
    "from scipy import stats\n",
    "import pandas as pd\n",
    "import pandas_datareader as web\n",
    "import matplotlib.pyplot as plt\n",
    "%matplotlib inline\n",
    "import numpy as np"
   ]
  },
  {
   "cell_type": "code",
   "execution_count": 21,
   "metadata": {},
   "outputs": [],
   "source": [
    "spy_etf = web.DataReader('SPY', data_source= 'yahoo', start= '1995-1-1', session= session)"
   ]
  },
  {
   "cell_type": "code",
   "execution_count": 22,
   "metadata": {},
   "outputs": [
    {
     "name": "stdout",
     "output_type": "stream",
     "text": [
      "<class 'pandas.core.frame.DataFrame'>\n",
      "DatetimeIndex: 6807 entries, 1995-01-03 to 2022-01-12\n",
      "Data columns (total 6 columns):\n",
      "High         6807 non-null float64\n",
      "Low          6807 non-null float64\n",
      "Open         6807 non-null float64\n",
      "Close        6807 non-null float64\n",
      "Volume       6807 non-null float64\n",
      "Adj Close    6807 non-null float64\n",
      "dtypes: float64(6)\n",
      "memory usage: 372.3 KB\n"
     ]
    }
   ],
   "source": [
    "spy_etf.info()"
   ]
  },
  {
   "cell_type": "code",
   "execution_count": 24,
   "metadata": {},
   "outputs": [
    {
     "data": {
      "text/html": [
       "<div>\n",
       "<style scoped>\n",
       "    .dataframe tbody tr th:only-of-type {\n",
       "        vertical-align: middle;\n",
       "    }\n",
       "\n",
       "    .dataframe tbody tr th {\n",
       "        vertical-align: top;\n",
       "    }\n",
       "\n",
       "    .dataframe thead th {\n",
       "        text-align: right;\n",
       "    }\n",
       "</style>\n",
       "<table border=\"1\" class=\"dataframe\">\n",
       "  <thead>\n",
       "    <tr style=\"text-align: right;\">\n",
       "      <th></th>\n",
       "      <th>High</th>\n",
       "      <th>Low</th>\n",
       "      <th>Open</th>\n",
       "      <th>Close</th>\n",
       "      <th>Volume</th>\n",
       "      <th>Adj Close</th>\n",
       "    </tr>\n",
       "    <tr>\n",
       "      <th>Date</th>\n",
       "      <th></th>\n",
       "      <th></th>\n",
       "      <th></th>\n",
       "      <th></th>\n",
       "      <th></th>\n",
       "      <th></th>\n",
       "    </tr>\n",
       "  </thead>\n",
       "  <tbody>\n",
       "    <tr>\n",
       "      <td>2022-01-06</td>\n",
       "      <td>470.820007</td>\n",
       "      <td>465.429993</td>\n",
       "      <td>467.890015</td>\n",
       "      <td>467.940002</td>\n",
       "      <td>86858900.0</td>\n",
       "      <td>467.940002</td>\n",
       "    </tr>\n",
       "    <tr>\n",
       "      <td>2022-01-07</td>\n",
       "      <td>469.200012</td>\n",
       "      <td>464.649994</td>\n",
       "      <td>467.950012</td>\n",
       "      <td>466.089996</td>\n",
       "      <td>85064800.0</td>\n",
       "      <td>466.089996</td>\n",
       "    </tr>\n",
       "    <tr>\n",
       "      <td>2022-01-10</td>\n",
       "      <td>465.739990</td>\n",
       "      <td>456.600006</td>\n",
       "      <td>462.700012</td>\n",
       "      <td>465.510010</td>\n",
       "      <td>119362000.0</td>\n",
       "      <td>465.510010</td>\n",
       "    </tr>\n",
       "    <tr>\n",
       "      <td>2022-01-11</td>\n",
       "      <td>469.850006</td>\n",
       "      <td>462.049988</td>\n",
       "      <td>465.230011</td>\n",
       "      <td>469.750000</td>\n",
       "      <td>74303100.0</td>\n",
       "      <td>469.750000</td>\n",
       "    </tr>\n",
       "    <tr>\n",
       "      <td>2022-01-12</td>\n",
       "      <td>473.200012</td>\n",
       "      <td>468.940002</td>\n",
       "      <td>471.589996</td>\n",
       "      <td>471.019989</td>\n",
       "      <td>67488100.0</td>\n",
       "      <td>471.019989</td>\n",
       "    </tr>\n",
       "  </tbody>\n",
       "</table>\n",
       "</div>"
      ],
      "text/plain": [
       "                  High         Low        Open       Close       Volume  \\\n",
       "Date                                                                      \n",
       "2022-01-06  470.820007  465.429993  467.890015  467.940002   86858900.0   \n",
       "2022-01-07  469.200012  464.649994  467.950012  466.089996   85064800.0   \n",
       "2022-01-10  465.739990  456.600006  462.700012  465.510010  119362000.0   \n",
       "2022-01-11  469.850006  462.049988  465.230011  469.750000   74303100.0   \n",
       "2022-01-12  473.200012  468.940002  471.589996  471.019989   67488100.0   \n",
       "\n",
       "             Adj Close  \n",
       "Date                    \n",
       "2022-01-06  467.940002  \n",
       "2022-01-07  466.089996  \n",
       "2022-01-10  465.510010  \n",
       "2022-01-11  469.750000  \n",
       "2022-01-12  471.019989  "
      ]
     },
     "execution_count": 24,
     "metadata": {},
     "output_type": "execute_result"
    }
   ],
   "source": [
    "spy_etf.tail()"
   ]
  },
  {
   "cell_type": "code",
   "execution_count": 26,
   "metadata": {},
   "outputs": [],
   "source": []
  },
  {
   "cell_type": "code",
   "execution_count": 34,
   "metadata": {},
   "outputs": [],
   "source": [
    "aapl = web.DataReader('AAPL',data_source= 'yahoo', start= '1995-1-1', session= session)"
   ]
  },
  {
   "cell_type": "code",
   "execution_count": 35,
   "metadata": {},
   "outputs": [
    {
     "data": {
      "text/html": [
       "<div>\n",
       "<style scoped>\n",
       "    .dataframe tbody tr th:only-of-type {\n",
       "        vertical-align: middle;\n",
       "    }\n",
       "\n",
       "    .dataframe tbody tr th {\n",
       "        vertical-align: top;\n",
       "    }\n",
       "\n",
       "    .dataframe thead th {\n",
       "        text-align: right;\n",
       "    }\n",
       "</style>\n",
       "<table border=\"1\" class=\"dataframe\">\n",
       "  <thead>\n",
       "    <tr style=\"text-align: right;\">\n",
       "      <th></th>\n",
       "      <th>High</th>\n",
       "      <th>Low</th>\n",
       "      <th>Open</th>\n",
       "      <th>Close</th>\n",
       "      <th>Volume</th>\n",
       "      <th>Adj Close</th>\n",
       "    </tr>\n",
       "    <tr>\n",
       "      <th>Date</th>\n",
       "      <th></th>\n",
       "      <th></th>\n",
       "      <th></th>\n",
       "      <th></th>\n",
       "      <th></th>\n",
       "      <th></th>\n",
       "    </tr>\n",
       "  </thead>\n",
       "  <tbody>\n",
       "    <tr>\n",
       "      <td>1995-01-03</td>\n",
       "      <td>0.347098</td>\n",
       "      <td>0.338170</td>\n",
       "      <td>0.347098</td>\n",
       "      <td>0.342634</td>\n",
       "      <td>1.038688e+08</td>\n",
       "      <td>0.290447</td>\n",
       "    </tr>\n",
       "    <tr>\n",
       "      <td>1995-01-04</td>\n",
       "      <td>0.353795</td>\n",
       "      <td>0.344866</td>\n",
       "      <td>0.344866</td>\n",
       "      <td>0.351563</td>\n",
       "      <td>1.586816e+08</td>\n",
       "      <td>0.298016</td>\n",
       "    </tr>\n",
       "    <tr>\n",
       "      <td>1995-01-05</td>\n",
       "      <td>0.351563</td>\n",
       "      <td>0.345982</td>\n",
       "      <td>0.350446</td>\n",
       "      <td>0.347098</td>\n",
       "      <td>7.364000e+07</td>\n",
       "      <td>0.294231</td>\n",
       "    </tr>\n",
       "    <tr>\n",
       "      <td>1995-01-06</td>\n",
       "      <td>0.385045</td>\n",
       "      <td>0.367188</td>\n",
       "      <td>0.371652</td>\n",
       "      <td>0.375000</td>\n",
       "      <td>1.076622e+09</td>\n",
       "      <td>0.317883</td>\n",
       "    </tr>\n",
       "    <tr>\n",
       "      <td>1995-01-09</td>\n",
       "      <td>0.373884</td>\n",
       "      <td>0.366071</td>\n",
       "      <td>0.371652</td>\n",
       "      <td>0.367885</td>\n",
       "      <td>2.740864e+08</td>\n",
       "      <td>0.311852</td>\n",
       "    </tr>\n",
       "  </tbody>\n",
       "</table>\n",
       "</div>"
      ],
      "text/plain": [
       "                High       Low      Open     Close        Volume  Adj Close\n",
       "Date                                                                       \n",
       "1995-01-03  0.347098  0.338170  0.347098  0.342634  1.038688e+08   0.290447\n",
       "1995-01-04  0.353795  0.344866  0.344866  0.351563  1.586816e+08   0.298016\n",
       "1995-01-05  0.351563  0.345982  0.350446  0.347098  7.364000e+07   0.294231\n",
       "1995-01-06  0.385045  0.367188  0.371652  0.375000  1.076622e+09   0.317883\n",
       "1995-01-09  0.373884  0.366071  0.371652  0.367885  2.740864e+08   0.311852"
      ]
     },
     "execution_count": 35,
     "metadata": {},
     "output_type": "execute_result"
    }
   ],
   "source": [
    "aapl.head()"
   ]
  },
  {
   "cell_type": "code",
   "execution_count": 36,
   "metadata": {},
   "outputs": [
    {
     "data": {
      "text/plain": [
       "<matplotlib.legend.Legend at 0x236da707248>"
      ]
     },
     "execution_count": 36,
     "metadata": {},
     "output_type": "execute_result"
    },
    {
     "data": {
      "image/png": "[encoded data removed]",
      "text/plain": [
       "<Figure size 720x576 with 1 Axes>"
      ]
     },
     "metadata": {
      "needs_background": "light"
     },
     "output_type": "display_data"
    }
   ],
   "source": [
    "aapl['Close'].plot(label='AAPL',figsize=(10,8))\n",
    "spy_etf['Close'].plot(label='SPY Index')\n",
    "plt.legend()"
   ]
  },
  {
   "cell_type": "markdown",
   "metadata": {},
   "source": [
    "## Compare Cumulative Return"
   ]
  },
  {
   "cell_type": "code",
   "execution_count": 37,
   "metadata": {},
   "outputs": [],
   "source": [
    "aapl['Cumulative'] = aapl['Close']/aapl['Close'].iloc[0]\n",
    "spy_etf['Cumulative'] = spy_etf['Close']/spy_etf['Close'].iloc[0]"
   ]
  },
  {
   "cell_type": "code",
   "execution_count": 38,
   "metadata": {},
   "outputs": [
    {
     "data": {
      "text/plain": [
       "Text(0.5, 1.0, 'Cumulative Return')"
      ]
     },
     "execution_count": 38,
     "metadata": {},
     "output_type": "execute_result"
    },
    {
     "data": {
      "image/png": "[encoded data removed]",
      "text/plain": [
       "<Figure size 720x576 with 1 Axes>"
      ]
     },
     "metadata": {
      "needs_background": "light"
     },
     "output_type": "display_data"
    }
   ],
   "source": [
    "aapl['Cumulative'].plot(label='AAPL',figsize=(10,8))\n",
    "spy_etf['Cumulative'].plot(label='SPY Index')\n",
    "plt.legend()\n",
    "plt.title('Cumulative Return')"
   ]
  },
  {
   "cell_type": "markdown",
   "metadata": {},
   "source": [
    "## Get Daily Return"
   ]
  },
  {
   "cell_type": "code",
   "execution_count": 39,
   "metadata": {},
   "outputs": [],
   "source": [
    "aapl['Daily Return'] = aapl['Close'].pct_change(1)\n",
    "spy_etf['Daily Return'] = spy_etf['Close'].pct_change(1)"
   ]
  },
  {
   "cell_type": "code",
   "execution_count": 40,
   "metadata": {},
   "outputs": [
    {
     "data": {
      "text/plain": [
       "<matplotlib.collections.PathCollection at 0x236d9fff888>"
      ]
     },
     "execution_count": 40,
     "metadata": {},
     "output_type": "execute_result"
    },
    {
     "data": {
      "image/png": "[encoded data removed]",
      "text/plain": [
       "<Figure size 432x288 with 1 Axes>"
      ]
     },
     "metadata": {
      "needs_background": "light"
     },
     "output_type": "display_data"
    }
   ],
   "source": [
    "plt.scatter(aapl['Daily Return'],spy_etf['Daily Return'],alpha=0.3)"
   ]
  },
  {
   "cell_type": "code",
   "execution_count": 41,
   "metadata": {},
   "outputs": [
    {
     "data": {
      "text/plain": [
       "<matplotlib.axes._subplots.AxesSubplot at 0x236d9d15148>"
      ]
     },
     "execution_count": 41,
     "metadata": {},
     "output_type": "execute_result"
    },
    {
     "data": {
      "image/png": "[encoded data removed]",
      "text/plain": [
       "<Figure size 432x288 with 1 Axes>"
      ]
     },
     "metadata": {
      "needs_background": "light"
     },
     "output_type": "display_data"
    }
   ],
   "source": [
    "aapl['Daily Return'].hist(bins=100)"
   ]
  },
  {
   "cell_type": "code",
   "execution_count": 42,
   "metadata": {},
   "outputs": [
    {
     "data": {
      "text/plain": [
       "<matplotlib.axes._subplots.AxesSubplot at 0x236da03aec8>"
      ]
     },
     "execution_count": 42,
     "metadata": {},
     "output_type": "execute_result"
    },
    {
     "data": {
      "image/png": "[encoded data removed]",
      "text/plain": [
       "<Figure size 432x288 with 1 Axes>"
      ]
     },
     "metadata": {
      "needs_background": "light"
     },
     "output_type": "display_data"
    }
   ],
   "source": [
    "spy_etf['Daily Return'].hist(bins=100)"
   ]
  },
  {
   "cell_type": "code",
   "execution_count": 44,
   "metadata": {},
   "outputs": [],
   "source": [
    "#why saying aapl['Daily Return'].iloc[1:] is that the first line is Na\n",
    "beta,alpha,r_value,p_value,std_err = stats.linregress(aapl['Daily Return'].iloc[1:],spy_etf['Daily Return'].iloc[1:])"
   ]
  },
  {
   "cell_type": "code",
   "execution_count": 45,
   "metadata": {},
   "outputs": [
    {
     "data": {
      "text/plain": [
       "0.21259905213782077"
      ]
     },
     "execution_count": 45,
     "metadata": {},
     "output_type": "execute_result"
    }
   ],
   "source": [
    "beta"
   ]
  },
  {
   "cell_type": "code",
   "execution_count": 46,
   "metadata": {},
   "outputs": [
    {
     "data": {
      "text/plain": [
       "0.00013919322235408254"
      ]
     },
     "execution_count": 46,
     "metadata": {},
     "output_type": "execute_result"
    }
   ],
   "source": [
    "alpha"
   ]
  },
  {
   "cell_type": "code",
   "execution_count": 47,
   "metadata": {},
   "outputs": [
    {
     "data": {
      "text/plain": [
       "0.4814739918111774"
      ]
     },
     "execution_count": 47,
     "metadata": {},
     "output_type": "execute_result"
    }
   ],
   "source": [
    "r_value  #so 0.48 is not a very good fit"
   ]
  },
  {
   "cell_type": "markdown",
   "metadata": {},
   "source": [
    "## What if our stock was completely related to SP500?"
   ]
  },
  {
   "cell_type": "code",
   "execution_count": 52,
   "metadata": {},
   "outputs": [
    {
     "data": {
      "text/plain": [
       "Date\n",
       "1995-01-03         NaN\n",
       "1995-01-04    0.004778\n",
       "1995-01-05    0.000000\n",
       "1995-01-06    0.001019\n",
       "1995-01-09    0.001018\n",
       "Name: Daily Return, dtype: float64"
      ]
     },
     "execution_count": 52,
     "metadata": {},
     "output_type": "execute_result"
    }
   ],
   "source": [
    "spy_etf['Daily Return'].head()"
   ]
  },
  {
   "cell_type": "code",
   "execution_count": 53,
   "metadata": {},
   "outputs": [],
   "source": [
    "noise = np.random.normal(0,0.001,len(spy_etf['Daily Return'].iloc[1:]))"
   ]
  },
  {
   "cell_type": "code",
   "execution_count": 54,
   "metadata": {},
   "outputs": [
    {
     "data": {
      "text/plain": [
       "array([ 0.00060693,  0.00067316, -0.00071842, ..., -0.00020546,\n",
       "        0.00047609, -0.0015389 ])"
      ]
     },
     "execution_count": 54,
     "metadata": {},
     "output_type": "execute_result"
    }
   ],
   "source": [
    "noise"
   ]
  },
  {
   "cell_type": "code",
   "execution_count": 55,
   "metadata": {},
   "outputs": [
    {
     "data": {
      "text/plain": [
       "Date\n",
       "1995-01-04    0.005385\n",
       "1995-01-05    0.000673\n",
       "1995-01-06    0.000301\n",
       "1995-01-09    0.000655\n",
       "1995-01-10    0.002640\n",
       "                ...   \n",
       "2022-01-06   -0.000754\n",
       "2022-01-07   -0.003352\n",
       "2022-01-10   -0.001450\n",
       "2022-01-11    0.009584\n",
       "2022-01-12    0.001165\n",
       "Name: Daily Return, Length: 6806, dtype: float64"
      ]
     },
     "execution_count": 55,
     "metadata": {},
     "output_type": "execute_result"
    }
   ],
   "source": [
    "spy_etf['Daily Return'].iloc[1:] + noise"
   ]
  },
  {
   "cell_type": "code",
   "execution_count": 56,
   "metadata": {},
   "outputs": [],
   "source": [
    "beta,alpha,r_value,p_value,std_err = stats.linregress(spy_etf['Daily Return'].iloc[1:]+noise,spy_etf['Daily Return'].iloc[1:])"
   ]
  },
  {
   "cell_type": "code",
   "execution_count": 57,
   "metadata": {},
   "outputs": [
    {
     "data": {
      "text/plain": [
       "0.9941434925234653"
      ]
     },
     "execution_count": 57,
     "metadata": {},
     "output_type": "execute_result"
    }
   ],
   "source": [
    "beta   #this is just to show that beta is the sensitivity of stock A according the flucuation of stock B"
   ]
  },
  {
   "cell_type": "code",
   "execution_count": 58,
   "metadata": {},
   "outputs": [
    {
     "data": {
      "text/plain": [
       "4.554050630721062e-06"
      ]
     },
     "execution_count": 58,
     "metadata": {},
     "output_type": "execute_result"
    }
   ],
   "source": [
    "alpha"
   ]
  },
  {
   "cell_type": "markdown",
   "metadata": {},
   "source": [
    "#### Thank you!"
   ]
  }
 ],
 "metadata": {
  "kernelspec": {
   "display_name": "Python 3",
   "language": "python",
   "name": "python3"
  },
  "language_info": {
   "codemirror_mode": {
    "name": "ipython",
    "version": 3
   },
   "file_extension": ".py",
   "mimetype": "text/x-python",
   "name": "python",
   "nbconvert_exporter": "python",
   "pygments_lexer": "ipython3",
   "version": "3.7.4"
  }
 },
 "nbformat": 4,
 "nbformat_minor": 2
}
